{
 "cells": [
  {
   "cell_type": "code",
   "execution_count": 1,
   "id": "0a3ec52a",
   "metadata": {},
   "outputs": [
    {
     "name": "stderr",
     "output_type": "stream",
     "text": [
      "C:\\New folder\\lib\\site-packages\\sklearn\\experimental\\enable_hist_gradient_boosting.py:16: UserWarning: Since version 1.0, it is not needed to import enable_hist_gradient_boosting anymore. HistGradientBoostingClassifier and HistGradientBoostingRegressor are now stable and can be normally imported from sklearn.ensemble.\n",
      "  warnings.warn(\n"
     ]
    }
   ],
   "source": [
    "import numpy as np\n",
    "from sklearn.impute import KNNImputer\n",
    "import pandas as pd\n",
    "import pandas as pd\n",
    "from sklearn.compose import ColumnTransformer\n",
    "from sklearn.preprocessing import OneHotEncoder, StandardScaler\n",
    "from sklearn.impute import KNNImputer\n",
    "from sklearn.pipeline import Pipeline\n",
    "from sklearn.model_selection import train_test_split\n",
    "from sklearn.linear_model import LogisticRegression\n",
    "from sklearn.svm import SVC\n",
    "from sklearn.ensemble import RandomForestClassifier\n",
    "from sklearn.metrics import accuracy_score,confusion_matrix,classification_report,precision_score,f1_score,recall_score\n",
    "from sklearn.model_selection import cross_val_score\n",
    "import matplotlib.pyplot as plt\n",
    "import seaborn as sns\n",
    "from sklearn.ensemble import VotingClassifier\n",
    "from sklearn.experimental import enable_hist_gradient_boosting\n",
    "from sklearn.ensemble import HistGradientBoostingClassifier\n",
    "import warnings"
   ]
  },
  {
   "cell_type": "code",
   "execution_count": 2,
   "id": "8b9aca4c",
   "metadata": {},
   "outputs": [],
   "source": [
    "warnings.filterwarnings('ignore')"
   ]
  },
  {
   "cell_type": "code",
   "execution_count": 3,
   "id": "5d4b84c4",
   "metadata": {},
   "outputs": [
    {
     "data": {
      "text/html": [
       "<div>\n",
       "<style scoped>\n",
       "    .dataframe tbody tr th:only-of-type {\n",
       "        vertical-align: middle;\n",
       "    }\n",
       "\n",
       "    .dataframe tbody tr th {\n",
       "        vertical-align: top;\n",
       "    }\n",
       "\n",
       "    .dataframe thead th {\n",
       "        text-align: right;\n",
       "    }\n",
       "</style>\n",
       "<table border=\"1\" class=\"dataframe\">\n",
       "  <thead>\n",
       "    <tr style=\"text-align: right;\">\n",
       "      <th></th>\n",
       "      <th>id</th>\n",
       "      <th>full_name</th>\n",
       "      <th>age</th>\n",
       "      <th>gender</th>\n",
       "      <th>device_type</th>\n",
       "      <th>ad_position</th>\n",
       "      <th>browsing_history</th>\n",
       "      <th>time_of_day</th>\n",
       "      <th>click</th>\n",
       "    </tr>\n",
       "  </thead>\n",
       "  <tbody>\n",
       "    <tr>\n",
       "      <th>0</th>\n",
       "      <td>670</td>\n",
       "      <td>User670</td>\n",
       "      <td>22.0</td>\n",
       "      <td>NaN</td>\n",
       "      <td>Desktop</td>\n",
       "      <td>Top</td>\n",
       "      <td>Shopping</td>\n",
       "      <td>Afternoon</td>\n",
       "      <td>1</td>\n",
       "    </tr>\n",
       "    <tr>\n",
       "      <th>1</th>\n",
       "      <td>3044</td>\n",
       "      <td>User3044</td>\n",
       "      <td>NaN</td>\n",
       "      <td>Male</td>\n",
       "      <td>Desktop</td>\n",
       "      <td>Top</td>\n",
       "      <td>NaN</td>\n",
       "      <td>NaN</td>\n",
       "      <td>1</td>\n",
       "    </tr>\n",
       "    <tr>\n",
       "      <th>2</th>\n",
       "      <td>5912</td>\n",
       "      <td>User5912</td>\n",
       "      <td>41.0</td>\n",
       "      <td>Non-Binary</td>\n",
       "      <td>NaN</td>\n",
       "      <td>Side</td>\n",
       "      <td>Education</td>\n",
       "      <td>Night</td>\n",
       "      <td>1</td>\n",
       "    </tr>\n",
       "    <tr>\n",
       "      <th>3</th>\n",
       "      <td>5418</td>\n",
       "      <td>User5418</td>\n",
       "      <td>34.0</td>\n",
       "      <td>Male</td>\n",
       "      <td>NaN</td>\n",
       "      <td>NaN</td>\n",
       "      <td>Entertainment</td>\n",
       "      <td>Evening</td>\n",
       "      <td>1</td>\n",
       "    </tr>\n",
       "    <tr>\n",
       "      <th>4</th>\n",
       "      <td>9452</td>\n",
       "      <td>User9452</td>\n",
       "      <td>39.0</td>\n",
       "      <td>Non-Binary</td>\n",
       "      <td>NaN</td>\n",
       "      <td>NaN</td>\n",
       "      <td>Social Media</td>\n",
       "      <td>Morning</td>\n",
       "      <td>0</td>\n",
       "    </tr>\n",
       "  </tbody>\n",
       "</table>\n",
       "</div>"
      ],
      "text/plain": [
       "     id full_name   age      gender device_type ad_position browsing_history  \\\n",
       "0   670   User670  22.0         NaN     Desktop         Top         Shopping   \n",
       "1  3044  User3044   NaN        Male     Desktop         Top              NaN   \n",
       "2  5912  User5912  41.0  Non-Binary         NaN        Side        Education   \n",
       "3  5418  User5418  34.0        Male         NaN         NaN    Entertainment   \n",
       "4  9452  User9452  39.0  Non-Binary         NaN         NaN     Social Media   \n",
       "\n",
       "  time_of_day  click  \n",
       "0   Afternoon      1  \n",
       "1         NaN      1  \n",
       "2       Night      1  \n",
       "3     Evening      1  \n",
       "4     Morning      0  "
      ]
     },
     "execution_count": 3,
     "metadata": {},
     "output_type": "execute_result"
    }
   ],
   "source": [
    "df=pd.read_csv(r\"C:\\Users\\dkdes\\OneDrive\\Desktop\\kaggle_datasets\\ad click prediction.csv\")\n",
    "df.head()"
   ]
  },
  {
   "cell_type": "code",
   "execution_count": 4,
   "id": "dc4e3d15",
   "metadata": {},
   "outputs": [
    {
     "data": {
      "text/html": [
       "<div>\n",
       "<style scoped>\n",
       "    .dataframe tbody tr th:only-of-type {\n",
       "        vertical-align: middle;\n",
       "    }\n",
       "\n",
       "    .dataframe tbody tr th {\n",
       "        vertical-align: top;\n",
       "    }\n",
       "\n",
       "    .dataframe thead th {\n",
       "        text-align: right;\n",
       "    }\n",
       "</style>\n",
       "<table border=\"1\" class=\"dataframe\">\n",
       "  <thead>\n",
       "    <tr style=\"text-align: right;\">\n",
       "      <th></th>\n",
       "      <th>age</th>\n",
       "      <th>gender</th>\n",
       "      <th>device_type</th>\n",
       "      <th>ad_position</th>\n",
       "      <th>browsing_history</th>\n",
       "      <th>time_of_day</th>\n",
       "      <th>click</th>\n",
       "    </tr>\n",
       "  </thead>\n",
       "  <tbody>\n",
       "    <tr>\n",
       "      <th>0</th>\n",
       "      <td>22.0</td>\n",
       "      <td>NaN</td>\n",
       "      <td>Desktop</td>\n",
       "      <td>Top</td>\n",
       "      <td>Shopping</td>\n",
       "      <td>Afternoon</td>\n",
       "      <td>1</td>\n",
       "    </tr>\n",
       "    <tr>\n",
       "      <th>1</th>\n",
       "      <td>NaN</td>\n",
       "      <td>Male</td>\n",
       "      <td>Desktop</td>\n",
       "      <td>Top</td>\n",
       "      <td>NaN</td>\n",
       "      <td>NaN</td>\n",
       "      <td>1</td>\n",
       "    </tr>\n",
       "    <tr>\n",
       "      <th>2</th>\n",
       "      <td>41.0</td>\n",
       "      <td>Non-Binary</td>\n",
       "      <td>NaN</td>\n",
       "      <td>Side</td>\n",
       "      <td>Education</td>\n",
       "      <td>Night</td>\n",
       "      <td>1</td>\n",
       "    </tr>\n",
       "    <tr>\n",
       "      <th>3</th>\n",
       "      <td>34.0</td>\n",
       "      <td>Male</td>\n",
       "      <td>NaN</td>\n",
       "      <td>NaN</td>\n",
       "      <td>Entertainment</td>\n",
       "      <td>Evening</td>\n",
       "      <td>1</td>\n",
       "    </tr>\n",
       "    <tr>\n",
       "      <th>4</th>\n",
       "      <td>39.0</td>\n",
       "      <td>Non-Binary</td>\n",
       "      <td>NaN</td>\n",
       "      <td>NaN</td>\n",
       "      <td>Social Media</td>\n",
       "      <td>Morning</td>\n",
       "      <td>0</td>\n",
       "    </tr>\n",
       "  </tbody>\n",
       "</table>\n",
       "</div>"
      ],
      "text/plain": [
       "    age      gender device_type ad_position browsing_history time_of_day  \\\n",
       "0  22.0         NaN     Desktop         Top         Shopping   Afternoon   \n",
       "1   NaN        Male     Desktop         Top              NaN         NaN   \n",
       "2  41.0  Non-Binary         NaN        Side        Education       Night   \n",
       "3  34.0        Male         NaN         NaN    Entertainment     Evening   \n",
       "4  39.0  Non-Binary         NaN         NaN     Social Media     Morning   \n",
       "\n",
       "   click  \n",
       "0      1  \n",
       "1      1  \n",
       "2      1  \n",
       "3      1  \n",
       "4      0  "
      ]
     },
     "execution_count": 4,
     "metadata": {},
     "output_type": "execute_result"
    }
   ],
   "source": [
    "df=df.drop([\"id\",\"full_name\"],axis=1)\n",
    "df.head()"
   ]
  },
  {
   "cell_type": "code",
   "execution_count": 5,
   "id": "51647b7a",
   "metadata": {},
   "outputs": [
    {
     "name": "stdout",
     "output_type": "stream",
     "text": [
      "<class 'pandas.core.frame.DataFrame'>\n",
      "RangeIndex: 10000 entries, 0 to 9999\n",
      "Data columns (total 7 columns):\n",
      " #   Column            Non-Null Count  Dtype  \n",
      "---  ------            --------------  -----  \n",
      " 0   age               5234 non-null   float64\n",
      " 1   gender            5307 non-null   object \n",
      " 2   device_type       8000 non-null   object \n",
      " 3   ad_position       8000 non-null   object \n",
      " 4   browsing_history  5218 non-null   object \n",
      " 5   time_of_day       8000 non-null   object \n",
      " 6   click             10000 non-null  int64  \n",
      "dtypes: float64(1), int64(1), object(5)\n",
      "memory usage: 547.0+ KB\n"
     ]
    }
   ],
   "source": [
    "df.info()"
   ]
  },
  {
   "cell_type": "code",
   "execution_count": 6,
   "id": "2e58cd66",
   "metadata": {},
   "outputs": [
    {
     "data": {
      "text/plain": [
       "age                 4766\n",
       "gender              4693\n",
       "device_type         2000\n",
       "ad_position         2000\n",
       "browsing_history    4782\n",
       "time_of_day         2000\n",
       "click                  0\n",
       "dtype: int64"
      ]
     },
     "execution_count": 6,
     "metadata": {},
     "output_type": "execute_result"
    }
   ],
   "source": [
    "df.isna().sum()"
   ]
  },
  {
   "cell_type": "code",
   "execution_count": 7,
   "id": "3d083dce",
   "metadata": {},
   "outputs": [
    {
     "data": {
      "text/html": [
       "<div>\n",
       "<style scoped>\n",
       "    .dataframe tbody tr th:only-of-type {\n",
       "        vertical-align: middle;\n",
       "    }\n",
       "\n",
       "    .dataframe tbody tr th {\n",
       "        vertical-align: top;\n",
       "    }\n",
       "\n",
       "    .dataframe thead th {\n",
       "        text-align: right;\n",
       "    }\n",
       "</style>\n",
       "<table border=\"1\" class=\"dataframe\">\n",
       "  <thead>\n",
       "    <tr style=\"text-align: right;\">\n",
       "      <th></th>\n",
       "      <th>age</th>\n",
       "      <th>click</th>\n",
       "    </tr>\n",
       "  </thead>\n",
       "  <tbody>\n",
       "    <tr>\n",
       "      <th>count</th>\n",
       "      <td>5234.000000</td>\n",
       "      <td>10000.000000</td>\n",
       "    </tr>\n",
       "    <tr>\n",
       "      <th>mean</th>\n",
       "      <td>40.197363</td>\n",
       "      <td>0.650000</td>\n",
       "    </tr>\n",
       "    <tr>\n",
       "      <th>std</th>\n",
       "      <td>13.126420</td>\n",
       "      <td>0.476993</td>\n",
       "    </tr>\n",
       "    <tr>\n",
       "      <th>min</th>\n",
       "      <td>18.000000</td>\n",
       "      <td>0.000000</td>\n",
       "    </tr>\n",
       "    <tr>\n",
       "      <th>25%</th>\n",
       "      <td>29.000000</td>\n",
       "      <td>0.000000</td>\n",
       "    </tr>\n",
       "    <tr>\n",
       "      <th>50%</th>\n",
       "      <td>39.500000</td>\n",
       "      <td>1.000000</td>\n",
       "    </tr>\n",
       "    <tr>\n",
       "      <th>75%</th>\n",
       "      <td>52.000000</td>\n",
       "      <td>1.000000</td>\n",
       "    </tr>\n",
       "    <tr>\n",
       "      <th>max</th>\n",
       "      <td>64.000000</td>\n",
       "      <td>1.000000</td>\n",
       "    </tr>\n",
       "  </tbody>\n",
       "</table>\n",
       "</div>"
      ],
      "text/plain": [
       "               age         click\n",
       "count  5234.000000  10000.000000\n",
       "mean     40.197363      0.650000\n",
       "std      13.126420      0.476993\n",
       "min      18.000000      0.000000\n",
       "25%      29.000000      0.000000\n",
       "50%      39.500000      1.000000\n",
       "75%      52.000000      1.000000\n",
       "max      64.000000      1.000000"
      ]
     },
     "execution_count": 7,
     "metadata": {},
     "output_type": "execute_result"
    }
   ],
   "source": [
    "df.describe()"
   ]
  },
  {
   "cell_type": "code",
   "execution_count": 8,
   "id": "ad74df18",
   "metadata": {},
   "outputs": [
    {
     "data": {
      "text/plain": [
       "1    6500\n",
       "0    3500\n",
       "Name: click, dtype: int64"
      ]
     },
     "execution_count": 8,
     "metadata": {},
     "output_type": "execute_result"
    }
   ],
   "source": [
    "df['click'].value_counts()"
   ]
  },
  {
   "cell_type": "code",
   "execution_count": 9,
   "id": "fc9349f1",
   "metadata": {},
   "outputs": [
    {
     "data": {
      "text/plain": [
       "<bound method DataFrame.isnull of        age      gender device_type ad_position browsing_history time_of_day  \\\n",
       "0     22.0         NaN     Desktop         Top         Shopping   Afternoon   \n",
       "1      NaN        Male     Desktop         Top              NaN         NaN   \n",
       "2     41.0  Non-Binary         NaN        Side        Education       Night   \n",
       "3     34.0        Male         NaN         NaN    Entertainment     Evening   \n",
       "4     39.0  Non-Binary         NaN         NaN     Social Media     Morning   \n",
       "...    ...         ...         ...         ...              ...         ...   \n",
       "9995   NaN         NaN      Mobile         Top        Education         NaN   \n",
       "9996   NaN      Female     Desktop      Bottom    Entertainment         NaN   \n",
       "9997   NaN        Male      Mobile        Side              NaN     Morning   \n",
       "9998   NaN         NaN     Desktop         NaN         Shopping     Morning   \n",
       "9999  44.0        Male      Tablet         Top     Social Media     Morning   \n",
       "\n",
       "      click  \n",
       "0         1  \n",
       "1         1  \n",
       "2         1  \n",
       "3         1  \n",
       "4         0  \n",
       "...     ...  \n",
       "9995      0  \n",
       "9996      0  \n",
       "9997      0  \n",
       "9998      1  \n",
       "9999      0  \n",
       "\n",
       "[10000 rows x 7 columns]>"
      ]
     },
     "execution_count": 9,
     "metadata": {},
     "output_type": "execute_result"
    }
   ],
   "source": [
    "df.isnull"
   ]
  },
  {
   "cell_type": "code",
   "execution_count": 10,
   "id": "44d13c23",
   "metadata": {},
   "outputs": [
    {
     "data": {
      "text/plain": [
       "<Axes: xlabel='click', ylabel='count'>"
      ]
     },
     "execution_count": 10,
     "metadata": {},
     "output_type": "execute_result"
    },
    {
     "data": {
      "image/png": "[encoded data removed]",
      "text/plain": [
       "<Figure size 640x480 with 1 Axes>"
      ]
     },
     "metadata": {},
     "output_type": "display_data"
    }
   ],
   "source": [
    "sns.countplot(x='click', data=df)"
   ]
  },
  {
   "cell_type": "code",
   "execution_count": 11,
   "id": "fb3946a7",
   "metadata": {},
   "outputs": [
    {
     "data": {
      "image/png": "[encoded data removed]",
      "text/plain": [
       "<Figure size 800x600 with 1 Axes>"
      ]
     },
     "metadata": {},
     "output_type": "display_data"
    }
   ],
   "source": [
    "df_grouped = df.groupby('device_type')['click'].mean().reset_index()\n",
    "\n",
    "plt.figure(figsize=(8,6))\n",
    "sns.barplot(x='device_type', y='click', data=df_grouped, palette='viridis')\n",
    "plt.title('Click Rate by Device Type')\n",
    "plt.xlabel('Device Type')\n",
    "plt.ylabel('Click Rate (Proportion)')\n",
    "plt.show()"
   ]
  },
  {
   "cell_type": "code",
   "execution_count": 12,
   "id": "08fac078",
   "metadata": {},
   "outputs": [
    {
     "data": {
      "text/plain": [
       "Female        1834\n",
       "Male          1810\n",
       "Non-Binary    1663\n",
       "Name: gender, dtype: int64"
      ]
     },
     "execution_count": 12,
     "metadata": {},
     "output_type": "execute_result"
    }
   ],
   "source": [
    "df['gender'].value_counts()"
   ]
  },
  {
   "cell_type": "code",
   "execution_count": 13,
   "id": "e6159222",
   "metadata": {},
   "outputs": [
    {
     "data": {
      "image/png": "[encoded data removed]",
      "text/plain": [
       "<Figure size 800x600 with 1 Axes>"
      ]
     },
     "metadata": {},
     "output_type": "display_data"
    }
   ],
   "source": [
    "df_grouped = df.groupby('gender')['click'].mean().reset_index()\n",
    "\n",
    "plt.figure(figsize=(8,6))\n",
    "sns.barplot(x='gender', y='click', data=df_grouped, palette='viridis')\n",
    "plt.title('Click Rate by Gender')\n",
    "plt.xlabel('Gender')\n",
    "plt.ylabel('Click Rate (Proportion)')\n",
    "plt.show()\n"
   ]
  },
  {
   "cell_type": "code",
   "execution_count": 14,
   "id": "f0cb519e",
   "metadata": {},
   "outputs": [
    {
     "data": {
      "image/png": "[encoded data removed]",
      "text/plain": [
       "<Figure size 800x600 with 1 Axes>"
      ]
     },
     "metadata": {},
     "output_type": "display_data"
    }
   ],
   "source": [
    "# Calculate the proportion of clicks\n",
    "df_grouped = df.groupby('time_of_day')['click'].mean().reset_index()\n",
    "\n",
    "plt.figure(figsize=(8,6))\n",
    "sns.barplot(x='time_of_day', y='click', data=df_grouped, palette='viridis')\n",
    "plt.title('Click Rate by Time of the Day')\n",
    "plt.xlabel('Time of the Day')\n",
    "plt.ylabel('Click Rate (Proportion)')\n",
    "plt.show()\n"
   ]
  },
  {
   "cell_type": "code",
   "execution_count": 15,
   "id": "146d64f1",
   "metadata": {},
   "outputs": [
    {
     "data": {
      "image/png": "[encoded data removed]",
      "text/plain": [
       "<Figure size 800x600 with 1 Axes>"
      ]
     },
     "metadata": {},
     "output_type": "display_data"
    }
   ],
   "source": [
    "bins=[10,20,30,40,50,60,70]\n",
    "labels = ['10-19', '20-29', '30-39', '40-49', '50-59', '60-69']\n",
    "age_group_success = df.groupby(pd.cut(df['age'], bins=bins,labels=labels, right=False))['click'].sum().reset_index()\n",
    "plt.figure(figsize=(8, 6))\n",
    "sns.barplot(x='age', y='click', data=age_group_success, palette='viridis')\n",
    "plt.title('Successful Clicks by Age Group')\n",
    "plt.xlabel('Age Group')\n",
    "plt.ylabel('Number of Successful Clicks')\n",
    "plt.show()"
   ]
  },
  {
   "cell_type": "code",
   "execution_count": 16,
   "id": "abf5b3f5",
   "metadata": {},
   "outputs": [
    {
     "data": {
      "image/png": "[encoded data removed]",
      "text/plain": [
       "<Figure size 800x600 with 1 Axes>"
      ]
     },
     "metadata": {},
     "output_type": "display_data"
    }
   ],
   "source": [
    "df_grouped = df.groupby('browsing_history')['click'].mean().reset_index()\n",
    "\n",
    "plt.figure(figsize=(8,6))\n",
    "sns.barplot(x='browsing_history', y='click', data=df_grouped, palette='viridis')\n",
    "plt.title('Click Rate by browsing_history')\n",
    "plt.xlabel('Browsing History')\n",
    "plt.ylabel('Click Rate (Proportion)')\n",
    "plt.show()"
   ]
  },
  {
   "cell_type": "code",
   "execution_count": 17,
   "id": "52dbe285",
   "metadata": {},
   "outputs": [
    {
     "data": {
      "image/png": "[encoded data removed]",
      "text/plain": [
       "<Figure size 800x600 with 1 Axes>"
      ]
     },
     "metadata": {},
     "output_type": "display_data"
    }
   ],
   "source": [
    "df_grouped = df.groupby('ad_position')['click'].mean().reset_index()\n",
    "\n",
    "plt.figure(figsize=(8,6))\n",
    "sns.barplot(x='ad_position', y='click', data=df_grouped, palette='viridis')\n",
    "plt.title('Click Rate by ad_position')\n",
    "plt.xlabel('ad_position')\n",
    "plt.ylabel('Click Rate (Proportion)')\n",
    "plt.show()"
   ]
  },
  {
   "cell_type": "code",
   "execution_count": 18,
   "id": "46c5e45c",
   "metadata": {},
   "outputs": [
    {
     "name": "stdout",
     "output_type": "stream",
     "text": [
      "           age  gender_Female  gender_Male  gender_Non-Binary  gender_nan  \\\n",
      "0    -1.386448            0.0          0.0                0.0         1.0   \n",
      "1     0.137342            0.0          1.0                0.0         0.0   \n",
      "2     0.061152            0.0          0.0                1.0         0.0   \n",
      "3    -0.472174            0.0          1.0                0.0         0.0   \n",
      "4    -0.091227            0.0          0.0                1.0         0.0   \n",
      "...        ...            ...          ...                ...         ...   \n",
      "9995  0.594479            0.0          0.0                0.0         1.0   \n",
      "9996 -0.802329            1.0          0.0                0.0         0.0   \n",
      "9997 -0.929311            0.0          1.0                0.0         0.0   \n",
      "9998 -0.269002            0.0          0.0                0.0         1.0   \n",
      "9999  0.289721            0.0          1.0                0.0         0.0   \n",
      "\n",
      "      device_type_Desktop  device_type_Mobile  device_type_Tablet  \\\n",
      "0                     1.0                 0.0                 0.0   \n",
      "1                     1.0                 0.0                 0.0   \n",
      "2                     0.0                 0.0                 0.0   \n",
      "3                     0.0                 0.0                 0.0   \n",
      "4                     0.0                 0.0                 0.0   \n",
      "...                   ...                 ...                 ...   \n",
      "9995                  0.0                 1.0                 0.0   \n",
      "9996                  1.0                 0.0                 0.0   \n",
      "9997                  0.0                 1.0                 0.0   \n",
      "9998                  1.0                 0.0                 0.0   \n",
      "9999                  0.0                 0.0                 1.0   \n",
      "\n",
      "      device_type_nan  ad_position_Bottom  ...  browsing_history_News  \\\n",
      "0                 0.0                 0.0  ...                    0.0   \n",
      "1                 0.0                 0.0  ...                    0.0   \n",
      "2                 1.0                 0.0  ...                    0.0   \n",
      "3                 1.0                 0.0  ...                    0.0   \n",
      "4                 1.0                 0.0  ...                    0.0   \n",
      "...               ...                 ...  ...                    ...   \n",
      "9995              0.0                 0.0  ...                    0.0   \n",
      "9996              0.0                 1.0  ...                    0.0   \n",
      "9997              0.0                 0.0  ...                    0.0   \n",
      "9998              0.0                 0.0  ...                    0.0   \n",
      "9999              0.0                 0.0  ...                    0.0   \n",
      "\n",
      "      browsing_history_Shopping  browsing_history_Social Media  \\\n",
      "0                           1.0                            0.0   \n",
      "1                           0.0                            0.0   \n",
      "2                           0.0                            0.0   \n",
      "3                           0.0                            0.0   \n",
      "4                           0.0                            1.0   \n",
      "...                         ...                            ...   \n",
      "9995                        0.0                            0.0   \n",
      "9996                        0.0                            0.0   \n",
      "9997                        0.0                            0.0   \n",
      "9998                        1.0                            0.0   \n",
      "9999                        0.0                            1.0   \n",
      "\n",
      "      browsing_history_nan  time_of_day_Afternoon  time_of_day_Evening  \\\n",
      "0                      0.0                    1.0                  0.0   \n",
      "1                      1.0                    0.0                  0.0   \n",
      "2                      0.0                    0.0                  0.0   \n",
      "3                      0.0                    0.0                  1.0   \n",
      "4                      0.0                    0.0                  0.0   \n",
      "...                    ...                    ...                  ...   \n",
      "9995                   0.0                    0.0                  0.0   \n",
      "9996                   0.0                    0.0                  0.0   \n",
      "9997                   1.0                    0.0                  0.0   \n",
      "9998                   0.0                    0.0                  0.0   \n",
      "9999                   0.0                    0.0                  0.0   \n",
      "\n",
      "      time_of_day_Morning  time_of_day_Night  time_of_day_nan  click  \n",
      "0                     0.0                0.0              0.0      1  \n",
      "1                     0.0                0.0              1.0      1  \n",
      "2                     0.0                1.0              0.0      1  \n",
      "3                     0.0                0.0              0.0      1  \n",
      "4                     1.0                0.0              0.0      0  \n",
      "...                   ...                ...              ...    ...  \n",
      "9995                  0.0                0.0              1.0      0  \n",
      "9996                  0.0                0.0              1.0      0  \n",
      "9997                  1.0                0.0              0.0      0  \n",
      "9998                  1.0                0.0              0.0      1  \n",
      "9999                  1.0                0.0              0.0      0  \n",
      "\n",
      "[10000 rows x 25 columns]\n"
     ]
    }
   ],
   "source": [
    "X = df.drop(columns=['click'])\n",
    "y = df['click'] \n",
    "categorical_transformer = Pipeline(steps=[\n",
    "    ('encoder', OneHotEncoder(handle_unknown='ignore', sparse_output=False)) \n",
    "])\n",
    "\n",
    "numerical_transformer = Pipeline(steps=[\n",
    "    ('scaler', StandardScaler()) \n",
    "])\n",
    "\n",
    "pre_encoding = ColumnTransformer(\n",
    "    transformers=[\n",
    "        ('num', numerical_transformer, ['age']),\n",
    "        ('cat', categorical_transformer, ['gender','device_type','ad_position','browsing_history','time_of_day'])\n",
    "    ]\n",
    ")\n",
    "\n",
    "knn_imputer = KNNImputer(n_neighbors=3)\n",
    "pipeline = Pipeline(steps=[\n",
    "    ('pre_encoding', pre_encoding),\n",
    "    ('knn_imputer', knn_imputer)  \n",
    "])\n",
    "\n",
    "X_transformed = pipeline.fit_transform(X)\n",
    "encoder = pipeline.named_steps['pre_encoding'].transformers_[1][1].named_steps['encoder']\n",
    "one_hot_columns = encoder.get_feature_names_out(['gender','device_type','ad_position','browsing_history','time_of_day'])\n",
    "\n",
    "columns = ['age'] + list(one_hot_columns)\n",
    "\n",
    "X_transformed_df = pd.DataFrame(X_transformed, columns=columns)\n",
    "\n",
    "df_final = pd.concat([X_transformed_df, y.reset_index(drop=True)], axis=1)\n",
    "\n",
    "print(df_final)\n",
    "\n"
   ]
  },
  {
   "cell_type": "code",
   "execution_count": 19,
   "id": "ef2dbb83",
   "metadata": {},
   "outputs": [
    {
     "name": "stdout",
     "output_type": "stream",
     "text": [
      "<class 'pandas.core.frame.DataFrame'>\n",
      "RangeIndex: 10000 entries, 0 to 9999\n",
      "Data columns (total 25 columns):\n",
      " #   Column                          Non-Null Count  Dtype  \n",
      "---  ------                          --------------  -----  \n",
      " 0   age                             10000 non-null  float64\n",
      " 1   gender_Female                   10000 non-null  float64\n",
      " 2   gender_Male                     10000 non-null  float64\n",
      " 3   gender_Non-Binary               10000 non-null  float64\n",
      " 4   gender_nan                      10000 non-null  float64\n",
      " 5   device_type_Desktop             10000 non-null  float64\n",
      " 6   device_type_Mobile              10000 non-null  float64\n",
      " 7   device_type_Tablet              10000 non-null  float64\n",
      " 8   device_type_nan                 10000 non-null  float64\n",
      " 9   ad_position_Bottom              10000 non-null  float64\n",
      " 10  ad_position_Side                10000 non-null  float64\n",
      " 11  ad_position_Top                 10000 non-null  float64\n",
      " 12  ad_position_nan                 10000 non-null  float64\n",
      " 13  browsing_history_Education      10000 non-null  float64\n",
      " 14  browsing_history_Entertainment  10000 non-null  float64\n",
      " 15  browsing_history_News           10000 non-null  float64\n",
      " 16  browsing_history_Shopping       10000 non-null  float64\n",
      " 17  browsing_history_Social Media   10000 non-null  float64\n",
      " 18  browsing_history_nan            10000 non-null  float64\n",
      " 19  time_of_day_Afternoon           10000 non-null  float64\n",
      " 20  time_of_day_Evening             10000 non-null  float64\n",
      " 21  time_of_day_Morning             10000 non-null  float64\n",
      " 22  time_of_day_Night               10000 non-null  float64\n",
      " 23  time_of_day_nan                 10000 non-null  float64\n",
      " 24  click                           10000 non-null  int64  \n",
      "dtypes: float64(24), int64(1)\n",
      "memory usage: 1.9 MB\n"
     ]
    }
   ],
   "source": [
    "df_final.info()"
   ]
  },
  {
   "cell_type": "code",
   "execution_count": 20,
   "id": "6421adce",
   "metadata": {},
   "outputs": [],
   "source": [
    "X_new=df_final.drop(['click'],axis=1)\n",
    "y_new=df_final['click']"
   ]
  },
  {
   "cell_type": "code",
   "execution_count": 21,
   "id": "76077fea",
   "metadata": {},
   "outputs": [],
   "source": [
    "X_train,X_test,y_train,y_test=train_test_split(X_new,y_new,test_size=0.2)"
   ]
  },
  {
   "cell_type": "code",
   "execution_count": 22,
   "id": "0588bad1",
   "metadata": {},
   "outputs": [],
   "source": [
    "def classifier_metrics(model):\n",
    "    model.fit(X_train , y_train)\n",
    "    y_pred = model.predict(X_test)\n",
    "    cr=classification_report(y_test , y_pred)\n",
    "    cv = cross_val_score(model,X_new,y_new,scoring=\"accuracy\")\n",
    "    f1=f1_score(y_test,y_pred)\n",
    "    print(\"Testing accuracy:\",np.mean(cv))\n",
    "    print(\"testing f1_score:\",f1)\n",
    "    print(\"Classification report \\n:\",cr)\n",
    "    matrix =confusion_matrix(y_test , y_pred)\n",
    "    plt.figure(figsize=(8, 6))\n",
    "    sns.heatmap(matrix, annot=True, fmt=\"d\", cmap=\"Blues\", cbar=False)\n",
    "    plt.title(\"Confusion Matrix\")\n",
    "    plt.xlabel(\"Predicted Labels\")\n",
    "    plt.ylabel(\"True Labels\")\n",
    "    plt.show()\n",
    "    print(\"----Model on Training data-----\")\n",
    "    y_train_pred = model.predict(X_train)\n",
    "    training_classification_report=classification_report(y_train , y_train_pred)\n",
    "    training_accuracy=cross_val_score(model,X_train,y_train,scoring='accuracy')\n",
    "    training_f1=f1_score(y_train,y_train_pred)\n",
    "    print(\"Training accuracy score:\",np.mean(training_accuracy))\n",
    "    print(\"Training classification Report \\n:\",training_classification_report)\n",
    "    print(\"training f1_score:\",training_f1)"
   ]
  },
  {
   "cell_type": "code",
   "execution_count": 23,
   "id": "745e66fd",
   "metadata": {},
   "outputs": [
    {
     "name": "stdout",
     "output_type": "stream",
     "text": [
      "Testing accuracy: 0.7019\n",
      "testing f1_score: 0.806098773616175\n",
      "Classification report \n",
      ":               precision    recall  f1-score   support\n",
      "\n",
      "           0       0.70      0.29      0.40       697\n",
      "           1       0.71      0.93      0.81      1303\n",
      "\n",
      "    accuracy                           0.71      2000\n",
      "   macro avg       0.70      0.61      0.61      2000\n",
      "weighted avg       0.70      0.71      0.67      2000\n",
      "\n"
     ]
    },
    {
     "data": {
      "image/png": "[encoded data removed]",
      "text/plain": [
       "<Figure size 800x600 with 1 Axes>"
      ]
     },
     "metadata": {},
     "output_type": "display_data"
    },
    {
     "name": "stdout",
     "output_type": "stream",
     "text": [
      "----Model on Training data-----\n",
      "Training accuracy score: 0.6914999999999999\n",
      "Training classification Report \n",
      ":               precision    recall  f1-score   support\n",
      "\n",
      "           0       0.87      0.39      0.54      2803\n",
      "           1       0.75      0.97      0.84      5197\n",
      "\n",
      "    accuracy                           0.77      8000\n",
      "   macro avg       0.81      0.68      0.69      8000\n",
      "weighted avg       0.79      0.77      0.74      8000\n",
      "\n",
      "training f1_score: 0.8430057027843005\n"
     ]
    }
   ],
   "source": [
    "rf=RandomForestClassifier(n_jobs=-1,n_estimators=700,max_features=None,min_samples_split=50)\n",
    "classifier_metrics(rf)"
   ]
  },
  {
   "cell_type": "code",
   "execution_count": 24,
   "id": "3a78c0a0",
   "metadata": {},
   "outputs": [
    {
     "name": "stdout",
     "output_type": "stream",
     "text": [
      "Testing accuracy: 0.65\n",
      "testing f1_score: 0.7889797154102332\n",
      "Classification report \n",
      ":               precision    recall  f1-score   support\n",
      "\n",
      "           0       0.00      0.00      0.00       697\n",
      "           1       0.65      1.00      0.79      1303\n",
      "\n",
      "    accuracy                           0.65      2000\n",
      "   macro avg       0.33      0.50      0.39      2000\n",
      "weighted avg       0.42      0.65      0.51      2000\n",
      "\n"
     ]
    },
    {
     "data": {
      "image/png": "[encoded data removed]",
      "text/plain": [
       "<Figure size 800x600 with 1 Axes>"
      ]
     },
     "metadata": {},
     "output_type": "display_data"
    },
    {
     "name": "stdout",
     "output_type": "stream",
     "text": [
      "----Model on Training data-----\n",
      "Training accuracy score: 0.649625\n",
      "Training classification Report \n",
      ":               precision    recall  f1-score   support\n",
      "\n",
      "           0       0.00      0.00      0.00      2803\n",
      "           1       0.65      1.00      0.79      5197\n",
      "\n",
      "    accuracy                           0.65      8000\n",
      "   macro avg       0.32      0.50      0.39      8000\n",
      "weighted avg       0.42      0.65      0.51      8000\n",
      "\n",
      "training f1_score: 0.7876032431613246\n"
     ]
    }
   ],
   "source": [
    "svm = SVC(C=10 ,gamma=0.001)\n",
    "classifier_metrics(svm)"
   ]
  },
  {
   "cell_type": "code",
   "execution_count": 25,
   "id": "340c0ed6",
   "metadata": {},
   "outputs": [
    {
     "name": "stdout",
     "output_type": "stream",
     "text": [
      "Testing accuracy: 0.6782999999999999\n",
      "testing f1_score: 0.7815617475060199\n",
      "Classification report \n",
      ":               precision    recall  f1-score   support\n",
      "\n",
      "           0       0.58      0.33      0.42       697\n",
      "           1       0.71      0.87      0.78      1303\n",
      "\n",
      "    accuracy                           0.68      2000\n",
      "   macro avg       0.64      0.60      0.60      2000\n",
      "weighted avg       0.66      0.68      0.66      2000\n",
      "\n"
     ]
    },
    {
     "data": {
      "image/png": "[encoded data removed]",
      "text/plain": [
       "<Figure size 800x600 with 1 Axes>"
      ]
     },
     "metadata": {},
     "output_type": "display_data"
    },
    {
     "name": "stdout",
     "output_type": "stream",
     "text": [
      "----Model on Training data-----\n",
      "Training accuracy score: 0.6653749999999999\n",
      "Training classification Report \n",
      ":               precision    recall  f1-score   support\n",
      "\n",
      "           0       0.77      0.48      0.59      2803\n",
      "           1       0.77      0.92      0.84      5197\n",
      "\n",
      "    accuracy                           0.77      8000\n",
      "   macro avg       0.77      0.70      0.72      8000\n",
      "weighted avg       0.77      0.77      0.75      8000\n",
      "\n",
      "training f1_score: 0.8386871508379888\n"
     ]
    }
   ],
   "source": [
    "from sklearn.neighbors import KNeighborsClassifier\n",
    "knn = KNeighborsClassifier()\n",
    "classifier_metrics(knn)"
   ]
  },
  {
   "cell_type": "code",
   "execution_count": 26,
   "id": "972913f3",
   "metadata": {},
   "outputs": [
    {
     "name": "stdout",
     "output_type": "stream",
     "text": [
      "Testing accuracy: 0.65\n",
      "testing f1_score: 0.7881176113973931\n",
      "Classification report \n",
      ":               precision    recall  f1-score   support\n",
      "\n",
      "           0       0.25      0.00      0.00       697\n",
      "           1       0.65      1.00      0.79      1303\n",
      "\n",
      "    accuracy                           0.65      2000\n",
      "   macro avg       0.45      0.50      0.40      2000\n",
      "weighted avg       0.51      0.65      0.51      2000\n",
      "\n"
     ]
    },
    {
     "data": {
      "image/png": "[encoded data removed]",
      "text/plain": [
       "<Figure size 800x600 with 1 Axes>"
      ]
     },
     "metadata": {},
     "output_type": "display_data"
    },
    {
     "name": "stdout",
     "output_type": "stream",
     "text": [
      "----Model on Training data-----\n",
      "Training accuracy score: 0.648625\n",
      "Training classification Report \n",
      ":               precision    recall  f1-score   support\n",
      "\n",
      "           0       0.56      0.00      0.01      2803\n",
      "           1       0.65      1.00      0.79      5197\n",
      "\n",
      "    accuracy                           0.65      8000\n",
      "   macro avg       0.61      0.50      0.40      8000\n",
      "weighted avg       0.62      0.65      0.51      8000\n",
      "\n",
      "training f1_score: 0.7874971549958273\n"
     ]
    }
   ],
   "source": [
    "lr = LogisticRegression()\n",
    "classifier_metrics(lr)"
   ]
  },
  {
   "cell_type": "code",
   "execution_count": 27,
   "id": "8ac05484",
   "metadata": {},
   "outputs": [],
   "source": [
    "estimators=[('lr',lr),('rf',rf),('knn',knn),('svm',svm)]"
   ]
  },
  {
   "cell_type": "code",
   "execution_count": 28,
   "id": "25bbe730",
   "metadata": {},
   "outputs": [
    {
     "name": "stdout",
     "output_type": "stream",
     "text": [
      "Testing accuracy: 0.6813\n",
      "testing f1_score: 0.7989838043823436\n",
      "Classification report \n",
      ":               precision    recall  f1-score   support\n",
      "\n",
      "           0       0.71      0.16      0.26       697\n",
      "           1       0.68      0.97      0.80      1303\n",
      "\n",
      "    accuracy                           0.68      2000\n",
      "   macro avg       0.69      0.56      0.53      2000\n",
      "weighted avg       0.69      0.68      0.61      2000\n",
      "\n"
     ]
    },
    {
     "data": {
      "image/png": "[encoded data removed]",
      "text/plain": [
       "<Figure size 800x600 with 1 Axes>"
      ]
     },
     "metadata": {},
     "output_type": "display_data"
    },
    {
     "name": "stdout",
     "output_type": "stream",
     "text": [
      "----Model on Training data-----\n",
      "Training accuracy score: 0.672625\n",
      "Training classification Report \n",
      ":               precision    recall  f1-score   support\n",
      "\n",
      "           0       0.91      0.28      0.42      2803\n",
      "           1       0.72      0.99      0.83      5197\n",
      "\n",
      "    accuracy                           0.74      8000\n",
      "   macro avg       0.81      0.63      0.63      8000\n",
      "weighted avg       0.78      0.74      0.69      8000\n",
      "\n",
      "training f1_score: 0.8295132420830971\n"
     ]
    }
   ],
   "source": [
    "VC=VotingClassifier(estimators=estimators , voting='hard')\n",
    "classifier_metrics(VC)"
   ]
  },
  {
   "cell_type": "markdown",
   "id": "e15c364a",
   "metadata": {},
   "source": [
    "## Applying Algorithms on Raw Data Without any Imputation"
   ]
  },
  {
   "cell_type": "code",
   "execution_count": 29,
   "id": "0cdafea1",
   "metadata": {},
   "outputs": [
    {
     "data": {
      "text/html": [
       "<div>\n",
       "<style scoped>\n",
       "    .dataframe tbody tr th:only-of-type {\n",
       "        vertical-align: middle;\n",
       "    }\n",
       "\n",
       "    .dataframe tbody tr th {\n",
       "        vertical-align: top;\n",
       "    }\n",
       "\n",
       "    .dataframe thead th {\n",
       "        text-align: right;\n",
       "    }\n",
       "</style>\n",
       "<table border=\"1\" class=\"dataframe\">\n",
       "  <thead>\n",
       "    <tr style=\"text-align: right;\">\n",
       "      <th></th>\n",
       "      <th>age</th>\n",
       "      <th>click</th>\n",
       "      <th>gender_Female</th>\n",
       "      <th>gender_Male</th>\n",
       "      <th>gender_Non-Binary</th>\n",
       "      <th>gender_nan</th>\n",
       "      <th>device_type_Desktop</th>\n",
       "      <th>device_type_Mobile</th>\n",
       "      <th>device_type_Tablet</th>\n",
       "      <th>device_type_nan</th>\n",
       "      <th>...</th>\n",
       "      <th>browsing_history_Entertainment</th>\n",
       "      <th>browsing_history_News</th>\n",
       "      <th>browsing_history_Shopping</th>\n",
       "      <th>browsing_history_Social Media</th>\n",
       "      <th>browsing_history_nan</th>\n",
       "      <th>time_of_day_Afternoon</th>\n",
       "      <th>time_of_day_Evening</th>\n",
       "      <th>time_of_day_Morning</th>\n",
       "      <th>time_of_day_Night</th>\n",
       "      <th>time_of_day_nan</th>\n",
       "    </tr>\n",
       "  </thead>\n",
       "  <tbody>\n",
       "    <tr>\n",
       "      <th>0</th>\n",
       "      <td>22.0</td>\n",
       "      <td>1</td>\n",
       "      <td>0</td>\n",
       "      <td>0</td>\n",
       "      <td>0</td>\n",
       "      <td>1</td>\n",
       "      <td>1</td>\n",
       "      <td>0</td>\n",
       "      <td>0</td>\n",
       "      <td>0</td>\n",
       "      <td>...</td>\n",
       "      <td>0</td>\n",
       "      <td>0</td>\n",
       "      <td>1</td>\n",
       "      <td>0</td>\n",
       "      <td>0</td>\n",
       "      <td>1</td>\n",
       "      <td>0</td>\n",
       "      <td>0</td>\n",
       "      <td>0</td>\n",
       "      <td>0</td>\n",
       "    </tr>\n",
       "    <tr>\n",
       "      <th>1</th>\n",
       "      <td>NaN</td>\n",
       "      <td>1</td>\n",
       "      <td>0</td>\n",
       "      <td>1</td>\n",
       "      <td>0</td>\n",
       "      <td>0</td>\n",
       "      <td>1</td>\n",
       "      <td>0</td>\n",
       "      <td>0</td>\n",
       "      <td>0</td>\n",
       "      <td>...</td>\n",
       "      <td>0</td>\n",
       "      <td>0</td>\n",
       "      <td>0</td>\n",
       "      <td>0</td>\n",
       "      <td>1</td>\n",
       "      <td>0</td>\n",
       "      <td>0</td>\n",
       "      <td>0</td>\n",
       "      <td>0</td>\n",
       "      <td>1</td>\n",
       "    </tr>\n",
       "    <tr>\n",
       "      <th>2</th>\n",
       "      <td>41.0</td>\n",
       "      <td>1</td>\n",
       "      <td>0</td>\n",
       "      <td>0</td>\n",
       "      <td>1</td>\n",
       "      <td>0</td>\n",
       "      <td>0</td>\n",
       "      <td>0</td>\n",
       "      <td>0</td>\n",
       "      <td>1</td>\n",
       "      <td>...</td>\n",
       "      <td>0</td>\n",
       "      <td>0</td>\n",
       "      <td>0</td>\n",
       "      <td>0</td>\n",
       "      <td>0</td>\n",
       "      <td>0</td>\n",
       "      <td>0</td>\n",
       "      <td>0</td>\n",
       "      <td>1</td>\n",
       "      <td>0</td>\n",
       "    </tr>\n",
       "    <tr>\n",
       "      <th>3</th>\n",
       "      <td>34.0</td>\n",
       "      <td>1</td>\n",
       "      <td>0</td>\n",
       "      <td>1</td>\n",
       "      <td>0</td>\n",
       "      <td>0</td>\n",
       "      <td>0</td>\n",
       "      <td>0</td>\n",
       "      <td>0</td>\n",
       "      <td>1</td>\n",
       "      <td>...</td>\n",
       "      <td>1</td>\n",
       "      <td>0</td>\n",
       "      <td>0</td>\n",
       "      <td>0</td>\n",
       "      <td>0</td>\n",
       "      <td>0</td>\n",
       "      <td>1</td>\n",
       "      <td>0</td>\n",
       "      <td>0</td>\n",
       "      <td>0</td>\n",
       "    </tr>\n",
       "    <tr>\n",
       "      <th>4</th>\n",
       "      <td>39.0</td>\n",
       "      <td>0</td>\n",
       "      <td>0</td>\n",
       "      <td>0</td>\n",
       "      <td>1</td>\n",
       "      <td>0</td>\n",
       "      <td>0</td>\n",
       "      <td>0</td>\n",
       "      <td>0</td>\n",
       "      <td>1</td>\n",
       "      <td>...</td>\n",
       "      <td>0</td>\n",
       "      <td>0</td>\n",
       "      <td>0</td>\n",
       "      <td>1</td>\n",
       "      <td>0</td>\n",
       "      <td>0</td>\n",
       "      <td>0</td>\n",
       "      <td>1</td>\n",
       "      <td>0</td>\n",
       "      <td>0</td>\n",
       "    </tr>\n",
       "    <tr>\n",
       "      <th>...</th>\n",
       "      <td>...</td>\n",
       "      <td>...</td>\n",
       "      <td>...</td>\n",
       "      <td>...</td>\n",
       "      <td>...</td>\n",
       "      <td>...</td>\n",
       "      <td>...</td>\n",
       "      <td>...</td>\n",
       "      <td>...</td>\n",
       "      <td>...</td>\n",
       "      <td>...</td>\n",
       "      <td>...</td>\n",
       "      <td>...</td>\n",
       "      <td>...</td>\n",
       "      <td>...</td>\n",
       "      <td>...</td>\n",
       "      <td>...</td>\n",
       "      <td>...</td>\n",
       "      <td>...</td>\n",
       "      <td>...</td>\n",
       "      <td>...</td>\n",
       "    </tr>\n",
       "    <tr>\n",
       "      <th>9995</th>\n",
       "      <td>NaN</td>\n",
       "      <td>0</td>\n",
       "      <td>0</td>\n",
       "      <td>0</td>\n",
       "      <td>0</td>\n",
       "      <td>1</td>\n",
       "      <td>0</td>\n",
       "      <td>1</td>\n",
       "      <td>0</td>\n",
       "      <td>0</td>\n",
       "      <td>...</td>\n",
       "      <td>0</td>\n",
       "      <td>0</td>\n",
       "      <td>0</td>\n",
       "      <td>0</td>\n",
       "      <td>0</td>\n",
       "      <td>0</td>\n",
       "      <td>0</td>\n",
       "      <td>0</td>\n",
       "      <td>0</td>\n",
       "      <td>1</td>\n",
       "    </tr>\n",
       "    <tr>\n",
       "      <th>9996</th>\n",
       "      <td>NaN</td>\n",
       "      <td>0</td>\n",
       "      <td>1</td>\n",
       "      <td>0</td>\n",
       "      <td>0</td>\n",
       "      <td>0</td>\n",
       "      <td>1</td>\n",
       "      <td>0</td>\n",
       "      <td>0</td>\n",
       "      <td>0</td>\n",
       "      <td>...</td>\n",
       "      <td>1</td>\n",
       "      <td>0</td>\n",
       "      <td>0</td>\n",
       "      <td>0</td>\n",
       "      <td>0</td>\n",
       "      <td>0</td>\n",
       "      <td>0</td>\n",
       "      <td>0</td>\n",
       "      <td>0</td>\n",
       "      <td>1</td>\n",
       "    </tr>\n",
       "    <tr>\n",
       "      <th>9997</th>\n",
       "      <td>NaN</td>\n",
       "      <td>0</td>\n",
       "      <td>0</td>\n",
       "      <td>1</td>\n",
       "      <td>0</td>\n",
       "      <td>0</td>\n",
       "      <td>0</td>\n",
       "      <td>1</td>\n",
       "      <td>0</td>\n",
       "      <td>0</td>\n",
       "      <td>...</td>\n",
       "      <td>0</td>\n",
       "      <td>0</td>\n",
       "      <td>0</td>\n",
       "      <td>0</td>\n",
       "      <td>1</td>\n",
       "      <td>0</td>\n",
       "      <td>0</td>\n",
       "      <td>1</td>\n",
       "      <td>0</td>\n",
       "      <td>0</td>\n",
       "    </tr>\n",
       "    <tr>\n",
       "      <th>9998</th>\n",
       "      <td>NaN</td>\n",
       "      <td>1</td>\n",
       "      <td>0</td>\n",
       "      <td>0</td>\n",
       "      <td>0</td>\n",
       "      <td>1</td>\n",
       "      <td>1</td>\n",
       "      <td>0</td>\n",
       "      <td>0</td>\n",
       "      <td>0</td>\n",
       "      <td>...</td>\n",
       "      <td>0</td>\n",
       "      <td>0</td>\n",
       "      <td>1</td>\n",
       "      <td>0</td>\n",
       "      <td>0</td>\n",
       "      <td>0</td>\n",
       "      <td>0</td>\n",
       "      <td>1</td>\n",
       "      <td>0</td>\n",
       "      <td>0</td>\n",
       "    </tr>\n",
       "    <tr>\n",
       "      <th>9999</th>\n",
       "      <td>44.0</td>\n",
       "      <td>0</td>\n",
       "      <td>0</td>\n",
       "      <td>1</td>\n",
       "      <td>0</td>\n",
       "      <td>0</td>\n",
       "      <td>0</td>\n",
       "      <td>0</td>\n",
       "      <td>1</td>\n",
       "      <td>0</td>\n",
       "      <td>...</td>\n",
       "      <td>0</td>\n",
       "      <td>0</td>\n",
       "      <td>0</td>\n",
       "      <td>1</td>\n",
       "      <td>0</td>\n",
       "      <td>0</td>\n",
       "      <td>0</td>\n",
       "      <td>1</td>\n",
       "      <td>0</td>\n",
       "      <td>0</td>\n",
       "    </tr>\n",
       "  </tbody>\n",
       "</table>\n",
       "<p>10000 rows × 25 columns</p>\n",
       "</div>"
      ],
      "text/plain": [
       "       age  click  gender_Female  gender_Male  gender_Non-Binary  gender_nan  \\\n",
       "0     22.0      1              0            0                  0           1   \n",
       "1      NaN      1              0            1                  0           0   \n",
       "2     41.0      1              0            0                  1           0   \n",
       "3     34.0      1              0            1                  0           0   \n",
       "4     39.0      0              0            0                  1           0   \n",
       "...    ...    ...            ...          ...                ...         ...   \n",
       "9995   NaN      0              0            0                  0           1   \n",
       "9996   NaN      0              1            0                  0           0   \n",
       "9997   NaN      0              0            1                  0           0   \n",
       "9998   NaN      1              0            0                  0           1   \n",
       "9999  44.0      0              0            1                  0           0   \n",
       "\n",
       "      device_type_Desktop  device_type_Mobile  device_type_Tablet  \\\n",
       "0                       1                   0                   0   \n",
       "1                       1                   0                   0   \n",
       "2                       0                   0                   0   \n",
       "3                       0                   0                   0   \n",
       "4                       0                   0                   0   \n",
       "...                   ...                 ...                 ...   \n",
       "9995                    0                   1                   0   \n",
       "9996                    1                   0                   0   \n",
       "9997                    0                   1                   0   \n",
       "9998                    1                   0                   0   \n",
       "9999                    0                   0                   1   \n",
       "\n",
       "      device_type_nan  ...  browsing_history_Entertainment  \\\n",
       "0                   0  ...                               0   \n",
       "1                   0  ...                               0   \n",
       "2                   1  ...                               0   \n",
       "3                   1  ...                               1   \n",
       "4                   1  ...                               0   \n",
       "...               ...  ...                             ...   \n",
       "9995                0  ...                               0   \n",
       "9996                0  ...                               1   \n",
       "9997                0  ...                               0   \n",
       "9998                0  ...                               0   \n",
       "9999                0  ...                               0   \n",
       "\n",
       "      browsing_history_News  browsing_history_Shopping  \\\n",
       "0                         0                          1   \n",
       "1                         0                          0   \n",
       "2                         0                          0   \n",
       "3                         0                          0   \n",
       "4                         0                          0   \n",
       "...                     ...                        ...   \n",
       "9995                      0                          0   \n",
       "9996                      0                          0   \n",
       "9997                      0                          0   \n",
       "9998                      0                          1   \n",
       "9999                      0                          0   \n",
       "\n",
       "      browsing_history_Social Media  browsing_history_nan  \\\n",
       "0                                 0                     0   \n",
       "1                                 0                     1   \n",
       "2                                 0                     0   \n",
       "3                                 0                     0   \n",
       "4                                 1                     0   \n",
       "...                             ...                   ...   \n",
       "9995                              0                     0   \n",
       "9996                              0                     0   \n",
       "9997                              0                     1   \n",
       "9998                              0                     0   \n",
       "9999                              1                     0   \n",
       "\n",
       "      time_of_day_Afternoon  time_of_day_Evening  time_of_day_Morning  \\\n",
       "0                         1                    0                    0   \n",
       "1                         0                    0                    0   \n",
       "2                         0                    0                    0   \n",
       "3                         0                    1                    0   \n",
       "4                         0                    0                    1   \n",
       "...                     ...                  ...                  ...   \n",
       "9995                      0                    0                    0   \n",
       "9996                      0                    0                    0   \n",
       "9997                      0                    0                    1   \n",
       "9998                      0                    0                    1   \n",
       "9999                      0                    0                    1   \n",
       "\n",
       "      time_of_day_Night  time_of_day_nan  \n",
       "0                     0                0  \n",
       "1                     0                1  \n",
       "2                     1                0  \n",
       "3                     0                0  \n",
       "4                     0                0  \n",
       "...                 ...              ...  \n",
       "9995                  0                1  \n",
       "9996                  0                1  \n",
       "9997                  0                0  \n",
       "9998                  0                0  \n",
       "9999                  0                0  \n",
       "\n",
       "[10000 rows x 25 columns]"
      ]
     },
     "execution_count": 29,
     "metadata": {},
     "output_type": "execute_result"
    }
   ],
   "source": [
    "df_encoded = pd.get_dummies(df, columns=['gender', 'device_type', 'ad_position', 'browsing_history',\n",
    "       'time_of_day'], dummy_na=True)\n",
    "df_encoded"
   ]
  },
  {
   "cell_type": "code",
   "execution_count": 30,
   "id": "3756830f",
   "metadata": {},
   "outputs": [],
   "source": [
    "X_new1=df_encoded.drop(['click'],axis=1)\n",
    "y_new1=df_encoded['click']"
   ]
  },
  {
   "cell_type": "code",
   "execution_count": 31,
   "id": "50f9ef7a",
   "metadata": {},
   "outputs": [],
   "source": [
    "X_train_new1,X_test_new1,y_train_new1,y_test_new1=train_test_split(X_new1,y_new1,test_size=0.2,random_state=42)"
   ]
  },
  {
   "cell_type": "code",
   "execution_count": 32,
   "id": "2e293f8b",
   "metadata": {},
   "outputs": [],
   "source": [
    "def classifier_metrics1(model):\n",
    "    model.fit(X_train_new1 , y_train_new1)\n",
    "    y_pred = model.predict(X_test_new1)\n",
    "    cr=classification_report(y_test_new1 , y_pred)\n",
    "    cv = cross_val_score(model,X_new1,y_new1,scoring=\"accuracy\")\n",
    "    f1=f1_score(y_test_new1,y_pred)\n",
    "    print(\"Testing accuracy:\",np.mean(cv))\n",
    "    print(\"testing f1_score:\",f1)\n",
    "    print(\"Classification report \\n:\",cr)\n",
    "    matrix =confusion_matrix(y_test_new1 , y_pred)\n",
    "    plt.figure(figsize=(8, 6))\n",
    "    sns.heatmap(matrix, annot=True, fmt=\"d\", cmap=\"Blues\", cbar=False)\n",
    "    plt.title(\"Confusion Matrix\")\n",
    "    plt.xlabel(\"Predicted Labels\")\n",
    "    plt.ylabel(\"True Labels\")\n",
    "    plt.show()\n",
    "    print(\"----Model on Training data-----\")\n",
    "    y_train_pred = model.predict(X_train_new1)\n",
    "    training_classification_report=classification_report(y_train_new1 , y_train_pred)\n",
    "    training_accuracy=cross_val_score(model,X_train_new1,y_train_new1,scoring='accuracy')\n",
    "    training_f1=f1_score(y_train_new1,y_train_pred)\n",
    "    print(\"Training accuracy score:\",np.mean(training_accuracy))\n",
    "    print(\"Training classification Report \\n:\",training_classification_report)\n",
    "    print(\"training f1_score:\",training_f1)"
   ]
  },
  {
   "cell_type": "code",
   "execution_count": 33,
   "id": "e904fa36",
   "metadata": {},
   "outputs": [
    {
     "name": "stdout",
     "output_type": "stream",
     "text": [
      "Testing accuracy: 0.7128\n",
      "testing f1_score: 0.8102094240837696\n",
      "Classification report \n",
      ":               precision    recall  f1-score   support\n",
      "\n",
      "           0       0.76      0.26      0.39       705\n",
      "           1       0.70      0.96      0.81      1295\n",
      "\n",
      "    accuracy                           0.71      2000\n",
      "   macro avg       0.73      0.61      0.60      2000\n",
      "weighted avg       0.72      0.71      0.66      2000\n",
      "\n"
     ]
    },
    {
     "data": {
      "image/png": "[encoded data removed]",
      "text/plain": [
       "<Figure size 800x600 with 1 Axes>"
      ]
     },
     "metadata": {},
     "output_type": "display_data"
    },
    {
     "name": "stdout",
     "output_type": "stream",
     "text": [
      "----Model on Training data-----\n",
      "Training accuracy score: 0.6997500000000001\n",
      "Training classification Report \n",
      ":               precision    recall  f1-score   support\n",
      "\n",
      "           0       0.89      0.37      0.53      2795\n",
      "           1       0.74      0.97      0.84      5205\n",
      "\n",
      "    accuracy                           0.77      8000\n",
      "   macro avg       0.82      0.67      0.69      8000\n",
      "weighted avg       0.79      0.77      0.73      8000\n",
      "\n",
      "training f1_score: 0.8436980379115397\n"
     ]
    }
   ],
   "source": [
    "rf1=RandomForestClassifier(n_jobs=-1,n_estimators=700,max_features=None,min_samples_split=50)\n",
    "classifier_metrics1(rf1)"
   ]
  },
  {
   "cell_type": "code",
   "execution_count": 34,
   "id": "17450698",
   "metadata": {},
   "outputs": [],
   "source": [
    "from sklearn.experimental import enable_hist_gradient_boosting\n",
    "from sklearn.ensemble import HistGradientBoostingClassifier\n",
    "hgb = HistGradientBoostingClassifier(max_iter=500,max_leaf_nodes=32,l2_regularization=10)\n",
    "hgb1=HistGradientBoostingClassifier()"
   ]
  },
  {
   "cell_type": "code",
   "execution_count": 35,
   "id": "e6002fe0",
   "metadata": {},
   "outputs": [
    {
     "name": "stdout",
     "output_type": "stream",
     "text": [
      "Testing accuracy: 0.7401000000000001\n",
      "testing f1_score: 0.81282316442606\n",
      "Classification report \n",
      ":               precision    recall  f1-score   support\n",
      "\n",
      "           0       0.71      0.39      0.51       705\n",
      "           1       0.73      0.91      0.81      1295\n",
      "\n",
      "    accuracy                           0.73      2000\n",
      "   macro avg       0.72      0.65      0.66      2000\n",
      "weighted avg       0.72      0.73      0.70      2000\n",
      "\n"
     ]
    },
    {
     "data": {
      "image/png": "[encoded data removed]",
      "text/plain": [
       "<Figure size 800x600 with 1 Axes>"
      ]
     },
     "metadata": {},
     "output_type": "display_data"
    },
    {
     "name": "stdout",
     "output_type": "stream",
     "text": [
      "----Model on Training data-----\n",
      "Training accuracy score: 0.7350000000000001\n",
      "Training classification Report \n",
      ":               precision    recall  f1-score   support\n",
      "\n",
      "           0       0.90      0.59      0.71      2795\n",
      "           1       0.81      0.96      0.88      5205\n",
      "\n",
      "    accuracy                           0.83      8000\n",
      "   macro avg       0.86      0.78      0.80      8000\n",
      "weighted avg       0.84      0.83      0.82      8000\n",
      "\n",
      "training f1_score: 0.8822081575246132\n"
     ]
    }
   ],
   "source": [
    "classifier_metrics1(hgb)"
   ]
  },
  {
   "cell_type": "code",
   "execution_count": 36,
   "id": "b6c9e8f1",
   "metadata": {},
   "outputs": [
    {
     "name": "stdout",
     "output_type": "stream",
     "text": [
      "Testing accuracy: 0.7221\n",
      "testing f1_score: 0.8066951099442075\n",
      "Classification report \n",
      ":               precision    recall  f1-score   support\n",
      "\n",
      "           0       0.73      0.26      0.38       705\n",
      "           1       0.70      0.95      0.81      1295\n",
      "\n",
      "    accuracy                           0.71      2000\n",
      "   macro avg       0.72      0.60      0.59      2000\n",
      "weighted avg       0.71      0.71      0.66      2000\n",
      "\n"
     ]
    },
    {
     "data": {
      "image/png": "[encoded data removed]",
      "text/plain": [
       "<Figure size 800x600 with 1 Axes>"
      ]
     },
     "metadata": {},
     "output_type": "display_data"
    },
    {
     "name": "stdout",
     "output_type": "stream",
     "text": [
      "----Model on Training data-----\n",
      "Training accuracy score: 0.71825\n",
      "Training classification Report \n",
      ":               precision    recall  f1-score   support\n",
      "\n",
      "           0       0.90      0.37      0.53      2795\n",
      "           1       0.74      0.98      0.85      5205\n",
      "\n",
      "    accuracy                           0.77      8000\n",
      "   macro avg       0.82      0.68      0.69      8000\n",
      "weighted avg       0.80      0.77      0.73      8000\n",
      "\n",
      "training f1_score: 0.8452153705701718\n"
     ]
    }
   ],
   "source": [
    "classifier_metrics1(hgb1)"
   ]
  },
  {
   "cell_type": "markdown",
   "id": "c5a1ca37",
   "metadata": {},
   "source": [
    "## Conclusion"
   ]
  },
  {
   "cell_type": "markdown",
   "id": "dda63237",
   "metadata": {},
   "source": [
    "The story the data tells for sucessful clicks is:\n",
    "1. keep more ads in Afternoon and Morning\n",
    "2. Advertisers should make advertisements Targeting age group of 20-29 and 30-39\n",
    "3. Ads should be more on Entertainment and Shopping\n",
    "4. For more sucessful clicks the position of AD should be at bottom"
   ]
  },
  {
   "cell_type": "markdown",
   "id": "6fa38cbc",
   "metadata": {},
   "source": [
    "## Conclusion on ML algorithm"
   ]
  },
  {
   "cell_type": "markdown",
   "id": "779efbee",
   "metadata": {},
   "source": [
    "I have created models on 2 scenarios of dataset\n",
    "1. On imputed dataset using KNN Imputer\n",
    "2. On Original Data Which contains Null values \n",
    "\n",
    "After a lot of HyperParameter Tuning in both Scenarios I conclude that Out of both Scenarios in Second Scenario Either We can use RandomForest(rf1) as it slightly outperforms HistGradientBoosting(hgb1)"
   ]
  },
  {
   "cell_type": "code",
   "execution_count": null,
   "id": "a1b12692",
   "metadata": {},
   "outputs": [],
   "source": []
  }
 ],
 "metadata": {
  "kernelspec": {
   "display_name": "Python 3 (ipykernel)",
   "language": "python",
   "name": "python3"
  },
  "language_info": {
   "codemirror_mode": {
    "name": "ipython",
    "version": 3
   },
   "file_extension": ".py",
   "mimetype": "text/x-python",
   "name": "python",
   "nbconvert_exporter": "python",
   "pygments_lexer": "ipython3",
   "version": "3.10.4"
  }
 },
 "nbformat": 4,
 "nbformat_minor": 5
}
